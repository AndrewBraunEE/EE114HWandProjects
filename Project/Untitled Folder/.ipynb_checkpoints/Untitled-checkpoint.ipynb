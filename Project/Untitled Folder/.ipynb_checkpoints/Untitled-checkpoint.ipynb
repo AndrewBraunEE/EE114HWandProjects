{
 "cells": [
  {
   "cell_type": "code",
   "execution_count": null,
   "metadata": {},
   "outputs": [],
   "source": [
    "#Load matlab data and export as CSV since easier to parse.\n",
    "   import scipy.io\n",
    "   import numpy as np\n",
    "   import pandas as pd\n",
    "   import matplotlib.pyplot as plt\n",
    "   data = scipy.io.loadmat(\"../assignment/feat_vec.mat\")\n",
    "   data1 = scipy.io.loadmat(\"../assignment/feat_vec_rnn.mat\")\n",
    "   labels = scipy.io.loadmat(\"../assignment/labels.mat\")\n",
    "\n",
    "   for i in data:\n",
    "        if '__' not in i and 'readme' not in i:\n",
    "              np.savetxt((\"feat_vec.csv\"),data[i],delimiter=',')\n",
    "              np.savetxt((\"feat_vec_rnn.csv\"),data[i],delimiter=',')"
   ]
  },
  {
   "cell_type": "markdown",
   "metadata": {},
   "source": [
    "###### We now have our data, now let's plot to see which features are good features"
   ]
  },
  {
   "cell_type": "code",
   "execution_count": null,
   "metadata": {},
   "outputs": [],
   "source": [
    "#Take CSV and plot.\n",
    "\n",
    "feature_list = [\"\"]\n",
    "\n",
    "data_frame = pd.read_csv('feat_vec.csv', sep=',',header=None)\n",
    "print(df.values)\n",
    "\n",
    "data_frame_rnn = pd.read_csv('feat_vec_rnn.csv', sep=',', header=None)\n",
    "\n",
    "y_data = pd.read_csv('labels.csv', sep=',', header=None)\n",
    "\n",
    "#PLOT HERE\n",
    "\n",
    "for (columnName, columnData) in empDfObj.iteritems():\n",
    "   print('Column Name : ', columnName)\n",
    "   print('Column Contents : ', columnData.values)\n",
    "   '''Above lines are to make sure we didn't screw up loading of csv'''\n",
    "   fig = plt.figure()\n",
    "   x = columnData\n",
    "   y = y_data\n",
    "   plt.plot(x, y, c = (y % 2)*255)\n",
    "   fig.suptitle('Feature: ' + str(columnName), fontsize=12)\n",
    "   plt.xlabel('X Feature', fontsize=18)\n",
    "   plt.ylabel('Is English Speaker?', fontsize=16)\n",
    "   plt.show(block=False)\n",
    "   "
   ]
  }
 ],
 "metadata": {
  "kernelspec": {
   "display_name": "Python 3",
   "language": "python",
   "name": "python3"
  }
 },
 "nbformat": 4,
 "nbformat_minor": 2
}
