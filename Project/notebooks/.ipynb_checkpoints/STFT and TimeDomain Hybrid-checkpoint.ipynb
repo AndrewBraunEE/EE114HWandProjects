{
 "cells": [
  {
   "cell_type": "code",
   "execution_count": null,
   "metadata": {},
   "outputs": [],
   "source": [
    "#Implementing a hybrid network, that looks at the STFT of the signal, and the time domain version of the signal\n",
    "#Combines and tries to classify as being an accent or not.\n",
    "\n",
    "\n",
    "num_neurons = 5000\n",
    "\n",
    "\n",
    "files = glob.glob(\"../sound_data/*.wav\")\n",
    "data_keys = ['filename', 'time_data', 'stft_data', 'stft_time_axis', 'Zxx']\n",
    "list_of_dicts = []\n",
    "\n",
    "for file in files:\n",
    "    fs, data = scipy.io.wavfile.read(file)\n",
    "    filename = os.path.basename(file)\n",
    "    data = scipy.signal.resample(data, num_neurons)\n",
    "    #Does zero padding automatically apparently\n",
    "    stft, t, Zxx = signal.stft(x, fs, nperseg=1000)\n",
    "    \n",
    "    data_values = [filename, data, stft, t, Zxx]\n",
    "    data_dict = dict(zip(data_keys, data_values))\n",
    "    list_of_dicts.append(data_dict)\n",
    "    \n",
    "    #plt.plot(range(len(data)) , data)\n",
    "    \n",
    "\n",
    "\n"
   ]
  },
  {
   "cell_type": "code",
   "execution_count": null,
   "metadata": {},
   "outputs": [],
   "source": [
    "#Implementation of hybrid network using Keras. \n",
    "#Implementation 1: Two different networks, come together in an (alpha) + (1-alpha) weighting\n",
    "\n",
    "#Shapes for inputs\n",
    "inputTime = Input(shape=(num_neurons,))\n",
    "inputFFT = Input(shape=(num_neurons,))\n",
    "\n",
    "#Time domain branch\n",
    "x = Dense(5000, activation=\"relu\")(inputTime)\n",
    "x = Dense(1250, activation=\"relu\")(x)\n",
    "x = Dense(125, activation=\"relu\")(x)\n",
    "x = Model(inputs=inputA, outputs=x)\n",
    "\n",
    "#FFT branch\n",
    "y = Dense(5000, activation=\"relu\")(inputFFT)\n",
    "y = Dense(1250, activation=\"relu\")(y)\n",
    "y = Dense(125, activation=\"relu\")(y)\n",
    "y = Model(inputs=inputFFT, outputs=y)\n",
    "\n",
    "#Combine together\n",
    "combined = concatenate([x.output, y.output])\n",
    "\n",
    "# apply a FC layer and then a regression prediction on the\n",
    "# combined outputs\n",
    "z = Dense(2, activation=\"relu\")(combined)\n",
    "z = Dense(2, activation=\"linear\")(z)\n",
    "#This will output a binary (does he have a foreign accent? or not?)\n",
    "z = Dense(2, activation=\"softmax\")(z)\n",
    "\n",
    "# our model will accept the inputs of the two branches and\n",
    "# then output a single value\n",
    "model = Model(inputs=[x.input, y.input], outputs=z)"
   ]
  },
  {
   "cell_type": "code",
   "execution_count": null,
   "metadata": {},
   "outputs": [],
   "source": [
    "#Compile model and run\n",
    "Adam=optimizers.Adam(lr=0.001, beta_1=0.9, beta_2=0.999)\n",
    "modelNN.compile(loss='binary_crossentropy', optimizer=Adam, metrics=['accuracy'])\n",
    "history=modelNN.fit(np.array(X_train), np.array(binary_y_train), validation_data=(X_test, binary_y_test), epochs=50)"
   ]
  }
 ],
 "metadata": {
  "kernelspec": {
   "display_name": "Python 3",
   "language": "python",
   "name": "python3"
  },
  "language_info": {
   "codemirror_mode": {
    "name": "ipython",
    "version": 3
   },
   "file_extension": ".py",
   "mimetype": "text/x-python",
   "name": "python",
   "nbconvert_exporter": "python",
   "pygments_lexer": "ipython3",
   "version": "3.6.0"
  }
 },
 "nbformat": 4,
 "nbformat_minor": 2
}
