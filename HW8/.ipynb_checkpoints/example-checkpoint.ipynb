{
 "cells": [
  {
   "cell_type": "markdown",
   "metadata": {
    "colab_type": "text",
    "id": "JddPnZIR7Yfn"
   },
   "source": [
    "Load Cifar10 image dataset and display the first 25 images to verify that loading was successful"
   ]
  },
  {
   "cell_type": "code",
   "execution_count": 1,
   "metadata": {
    "colab": {},
    "colab_type": "code",
    "id": "Mwqaw-AJziqY"
   },
   "outputs": [
    {
     "data": {
      "text/plain": [
       "<Figure size 1000x1000 with 25 Axes>"
      ]
     },
     "metadata": {},
     "output_type": "display_data"
    }
   ],
   "source": [
    "from __future__ import absolute_import, division, print_function, unicode_literals\n",
    "\n",
    "import tensorflow as tf\n",
    "\n",
    "from tensorflow.keras import datasets, layers, models\n",
    "import matplotlib.pyplot as plt\n",
    "%matplotlib inline\n",
    "(train_images, train_labels), (test_images, test_labels) = datasets.cifar10.load_data()\n",
    "\n",
    "# Normalize pixel values to be between 0 and 1\n",
    "train_images, test_images = train_images / 255.0, test_images / 255.0\n",
    "\n",
    "class_names = ['airplane', 'automobile', 'bird', 'cat', 'deer',\n",
    "               'dog', 'frog', 'horse', 'ship', 'truck']\n",
    "\n",
    "plt.figure(figsize=(10,10))\n",
    "for i in range(25):\n",
    "    plt.subplot(5,5,i+1)\n",
    "    plt.xticks([])\n",
    "    plt.yticks([])\n",
    "    plt.grid(False)\n",
    "    plt.imshow(train_images[i], cmap=plt.cm.binary)\n",
    "    # The CIFAR labels happen to be arrays, \n",
    "    # which is why you need the extra index\n",
    "    plt.xlabel(class_names[train_labels[i][0]])\n",
    "plt.show()"
   ]
  },
  {
   "cell_type": "markdown",
   "metadata": {
    "colab_type": "text",
    "id": "ABm6m8hn7vbn"
   },
   "source": [
    "Create our Convolutional Neural Network.  Note that in Tensorflow, we create our network as a static graph and then run our data through it.  We cannot change the structure of the network dynamically and the structure of the network does not depend on the data distribution."
   ]
  },
  {
   "cell_type": "code",
   "execution_count": 2,
   "metadata": {
    "colab": {},
    "colab_type": "code",
    "id": "4xl05msM3u_n"
   },
   "outputs": [],
   "source": [
    "model = models.Sequential()\n",
    "model.add(layers.Conv2D(32, (3, 3), activation='relu', input_shape=(32, 32, 3)))\n",
    "model.add(layers.MaxPooling2D((2, 2)))\n",
    "model.add(layers.Conv2D(64, (3, 3), activation='relu'))\n",
    "model.add(layers.MaxPooling2D((2, 2)))\n",
    "model.add(layers.Conv2D(64, (3, 3), activation='relu'))\n",
    "model.add(layers.Flatten())\n",
    "model.add(layers.Dense(64, activation='relu'))\n",
    "model.add(layers.Dense(10, activation='softmax'))"
   ]
  },
  {
   "cell_type": "markdown",
   "metadata": {
    "colab_type": "text",
    "id": "4Scwxn5y8Bd0"
   },
   "source": [
    "View our Network structure and the number of trainable parameters on each layer."
   ]
  },
  {
   "cell_type": "code",
   "execution_count": 3,
   "metadata": {
    "colab": {},
    "colab_type": "code",
    "id": "L90sPZK934wk"
   },
   "outputs": [
    {
     "name": "stdout",
     "output_type": "stream",
     "text": [
      "Model: \"sequential\"\n",
      "_________________________________________________________________\n",
      "Layer (type)                 Output Shape              Param #   \n",
      "=================================================================\n",
      "conv2d (Conv2D)              (None, 30, 30, 32)        896       \n",
      "_________________________________________________________________\n",
      "max_pooling2d (MaxPooling2D) (None, 15, 15, 32)        0         \n",
      "_________________________________________________________________\n",
      "conv2d_1 (Conv2D)            (None, 13, 13, 64)        18496     \n",
      "_________________________________________________________________\n",
      "max_pooling2d_1 (MaxPooling2 (None, 6, 6, 64)          0         \n",
      "_________________________________________________________________\n",
      "conv2d_2 (Conv2D)            (None, 4, 4, 64)          36928     \n",
      "_________________________________________________________________\n",
      "flatten (Flatten)            (None, 1024)              0         \n",
      "_________________________________________________________________\n",
      "dense (Dense)                (None, 64)                65600     \n",
      "_________________________________________________________________\n",
      "dense_1 (Dense)              (None, 10)                650       \n",
      "=================================================================\n",
      "Total params: 122,570\n",
      "Trainable params: 122,570\n",
      "Non-trainable params: 0\n",
      "_________________________________________________________________\n"
     ]
    }
   ],
   "source": [
    "model.summary()"
   ]
  },
  {
   "cell_type": "markdown",
   "metadata": {
    "colab_type": "text",
    "id": "QB8O2VAM8I9Q"
   },
   "source": [
    "Run the network with our data."
   ]
  },
  {
   "cell_type": "code",
   "execution_count": 4,
   "metadata": {
    "colab": {},
    "colab_type": "code",
    "id": "wg3_GVmg375r"
   },
   "outputs": [
    {
     "name": "stdout",
     "output_type": "stream",
     "text": [
      "Train on 50000 samples, validate on 10000 samples\n",
      "Epoch 1/10\n",
      "50000/50000 [==============================] - 17s 349us/sample - loss: 1.5157 - accuracy: 0.4481 - val_loss: 1.2657 - val_accuracy: 0.5394\n",
      "Epoch 2/10\n",
      "50000/50000 [==============================] - 12s 246us/sample - loss: 1.1629 - accuracy: 0.5875 - val_loss: 1.0821 - val_accuracy: 0.6147\n",
      "Epoch 3/10\n",
      "50000/50000 [==============================] - 12s 245us/sample - loss: 1.0172 - accuracy: 0.6408 - val_loss: 0.9818 - val_accuracy: 0.6596\n",
      "Epoch 4/10\n",
      "50000/50000 [==============================] - 12s 238us/sample - loss: 0.9169 - accuracy: 0.6760 - val_loss: 0.9709 - val_accuracy: 0.6640\n",
      "Epoch 5/10\n",
      "50000/50000 [==============================] - 12s 239us/sample - loss: 0.8329 - accuracy: 0.7081 - val_loss: 0.9215 - val_accuracy: 0.6820\n",
      "Epoch 6/10\n",
      "50000/50000 [==============================] - 12s 240us/sample - loss: 0.7768 - accuracy: 0.7251 - val_loss: 0.8841 - val_accuracy: 0.6950\n",
      "Epoch 7/10\n",
      "50000/50000 [==============================] - 14s 285us/sample - loss: 0.7205 - accuracy: 0.7455 - val_loss: 0.8969 - val_accuracy: 0.6931\n",
      "Epoch 8/10\n",
      "50000/50000 [==============================] - 13s 251us/sample - loss: 0.6771 - accuracy: 0.7626 - val_loss: 0.8878 - val_accuracy: 0.6987\n",
      "Epoch 9/10\n",
      "50000/50000 [==============================] - 12s 243us/sample - loss: 0.6390 - accuracy: 0.7746 - val_loss: 0.9177 - val_accuracy: 0.6962\n",
      "Epoch 10/10\n",
      "50000/50000 [==============================] - 12s 245us/sample - loss: 0.6017 - accuracy: 0.7866 - val_loss: 0.8685 - val_accuracy: 0.7109\n"
     ]
    }
   ],
   "source": [
    "model.compile(optimizer='adam',\n",
    "              loss='sparse_categorical_crossentropy',\n",
    "              metrics=['accuracy'])\n",
    "\n",
    "history = model.fit(train_images, train_labels, epochs=10, \n",
    "                    validation_data=(test_images, test_labels))"
   ]
  },
  {
   "cell_type": "markdown",
   "metadata": {
    "colab_type": "text",
    "id": "sNfaK-wS8N1s"
   },
   "source": [
    "Plot the train and validation accuracy"
   ]
  },
  {
   "cell_type": "code",
   "execution_count": 6,
   "metadata": {
    "colab": {},
    "colab_type": "code",
    "id": "IGuV0-yo4C0o"
   },
   "outputs": [
    {
     "name": "stdout",
     "output_type": "stream",
     "text": [
      "10000/1 - 1s - loss: 0.8628 - accuracy: 0.7109\n"
     ]
    },
    {
     "data": {
      "image/png": "[encoded data removed]",
      "text/plain": [
       "<Figure size 432x288 with 1 Axes>"
      ]
     },
     "metadata": {
      "needs_background": "light"
     },
     "output_type": "display_data"
    }
   ],
   "source": [
    "plt.plot(history.history['accuracy'], label='accuracy')\n",
    "plt.plot(history.history['val_accuracy'], label = 'val_accuracy')\n",
    "plt.xlabel('Epoch')\n",
    "plt.ylabel('Accuracy')\n",
    "plt.ylim([0.5, 1])\n",
    "plt.legend(loc='lower right')\n",
    "\n",
    "test_loss, test_acc = model.evaluate(test_images,  test_labels, verbose=2)"
   ]
  },
  {
   "cell_type": "markdown",
   "metadata": {
    "colab_type": "text",
    "id": "VBBTJtNd8Sjr"
   },
   "source": [
    "Print the final test accuracy"
   ]
  },
  {
   "cell_type": "code",
   "execution_count": 7,
   "metadata": {
    "colab": {},
    "colab_type": "code",
    "id": "RYEo_u0E4G7T"
   },
   "outputs": [
    {
     "name": "stdout",
     "output_type": "stream",
     "text": [
      "0.7109\n"
     ]
    }
   ],
   "source": [
    "print(test_acc)"
   ]
  },
  {
   "cell_type": "code",
   "execution_count": 8,
   "metadata": {
    "colab": {},
    "colab_type": "code",
    "id": "-vRa0toSXfDS"
   },
   "outputs": [
    {
     "ename": "SyntaxError",
     "evalue": "invalid syntax (<ipython-input-8-ec6ee38ea864>, line 1)",
     "output_type": "error",
     "traceback": [
      "\u001b[1;36m  File \u001b[1;32m\"<ipython-input-8-ec6ee38ea864>\"\u001b[1;36m, line \u001b[1;32m1\u001b[0m\n\u001b[1;33m    Create the confusion matrix\u001b[0m\n\u001b[1;37m             ^\u001b[0m\n\u001b[1;31mSyntaxError\u001b[0m\u001b[1;31m:\u001b[0m invalid syntax\n"
     ]
    }
   ],
   "source": [
    "#Create the confusion matrix"
   ]
  },
  {
   "cell_type": "code",
   "execution_count": 9,
   "metadata": {
    "colab": {},
    "colab_type": "code",
    "id": "IuVFF7s1UMao"
   },
   "outputs": [
    {
     "name": "stdout",
     "output_type": "stream",
     "text": [
      "Confusion Matrix\n",
      "[[4161   85  260   41   54    9   12   28  270   80]\n",
      " [  32 4707   11   10   12    8   13    3  122   82]\n",
      " [ 162   24 3999  138  259  103  129  116   57   13]\n",
      " [  59   34  360 3314  241  488  215  162   83   44]\n",
      " [  82   12  342  177 3899   72   71  309   25   11]\n",
      " [  20   23  290  870  168 3195  110  267   33   24]\n",
      " [  19   29  241  168  188   48 4235   20   36   16]\n",
      " [  29   15  128   99   99   88   17 4481   17   27]\n",
      " [ 135   42   35   24    6    6   12    7 4707   26]\n",
      " [  96  461   42   28    7    7   17   32  121 4189]]\n"
     ]
    }
   ],
   "source": [
    "from sklearn.metrics import classification_report, confusion_matrix\n",
    "import numpy as np\n",
    "\n",
    "pred=model.predict(train_images)\n",
    "y_pred = np.argmax(pred, axis=1)\n",
    "print('Confusion Matrix')\n",
    "print(confusion_matrix(train_labels, y_pred))\n",
    "#target_names = ['airplane', 'automobile', 'bird', 'cat', 'deer',\n",
    "#               'dog', 'frog', 'horse', 'ship', 'truck']\n"
   ]
  },
  {
   "cell_type": "code",
   "execution_count": null,
   "metadata": {},
   "outputs": [],
   "source": [
    "#Class 1 mistaken for class 3 the most\n",
    "#Class 2 mistaken for class 9 the most\n",
    "#Class 3 mistaken for class 5 the most -> Implies Class 3's features aren't distinguishable enough\n",
    "#Class 4 mistken for class 6 the most\n",
    "#Class 5 mistaken for class 3 the most\n",
    "#Class 6 mistaken for class 4 the most\n",
    "#Class 7 mistaken for class 3 the most\n",
    "#Class 8 mistaken for class 3 the most\n",
    "#Class 9 mistaken for class 1 the most\n",
    "#Class 10 mistaken for class 2 the most"
   ]
  }
 ],
 "metadata": {
  "accelerator": "GPU",
  "colab": {
   "name": "Image_CNN.ipynb",
   "provenance": []
  },
  "kernelspec": {
   "display_name": "Python 3",
   "language": "python",
   "name": "python3"
  },
  "language_info": {
   "codemirror_mode": {
    "name": "ipython",
    "version": 3
   },
   "file_extension": ".py",
   "mimetype": "text/x-python",
   "name": "python",
   "nbconvert_exporter": "python",
   "pygments_lexer": "ipython3",
   "version": "3.7.1"
  }
 },
 "nbformat": 4,
 "nbformat_minor": 1
}
